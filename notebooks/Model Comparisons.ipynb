{
 "cells": [
  {
   "cell_type": "code",
   "execution_count": 18,
   "id": "2d982aea",
   "metadata": {},
   "outputs": [
    {
     "data": {
      "application/javascript": [
       "IPython.OutputArea.prototype._should_scroll = function(lines) {\n",
       "    return false;\n",
       "}\n"
      ],
      "text/plain": [
       "<IPython.core.display.Javascript object>"
      ]
     },
     "metadata": {},
     "output_type": "display_data"
    }
   ],
   "source": [
    "%%javascript\n",
    "IPython.OutputArea.prototype._should_scroll = function(lines) {\n",
    "    return false;\n",
    "}"
   ]
  },
  {
   "cell_type": "code",
   "execution_count": 59,
   "id": "9db40985",
   "metadata": {},
   "outputs": [],
   "source": [
    "#import main packages \n",
    "import numpy as np\n",
    "import pandas as pd\n",
    "import matplotlib.pyplot as plt\n",
    "import plotly.express as px\n",
    "\n",
    "import matplotlib.pyplot as plt\n",
    "import scikitplot as skplt\n",
    "from tabulate import tabulate"
   ]
  },
  {
   "cell_type": "code",
   "execution_count": 20,
   "id": "ddc6d140",
   "metadata": {},
   "outputs": [],
   "source": [
    "pd.set_option('display.max_rows', None)\n",
    "pd.set_option('display.max_columns', None)"
   ]
  },
  {
   "cell_type": "code",
   "execution_count": 21,
   "id": "a6b5ad1a",
   "metadata": {},
   "outputs": [],
   "source": [
    "from collections import Counter\n",
    "import pprint\n",
    "import pickle"
   ]
  },
  {
   "cell_type": "code",
   "execution_count": 38,
   "id": "994864a1",
   "metadata": {},
   "outputs": [],
   "source": [
    "#import machine learning models\n",
    "from sklearn.model_selection import train_test_split\n",
    "\n",
    "from sklearn.linear_model import LinearRegression\n",
    "from sklearn.svm import SVR\n",
    "from sklearn.tree import DecisionTreeRegressor\n",
    "from sklearn.ensemble import RandomForestRegressor\n",
    "from sklearn import linear_model\n",
    "\n",
    "#metrics\n",
    "from sklearn.metrics import mean_squared_error\n",
    "\n",
    "#create an list with all models\n",
    "\n",
    "models = []\n",
    "models.append((\"LR\", LinearRegression()))\n",
    "models.append((\"SVR\", SVR(kernel=\"rbf\")))\n",
    "models.append((\"DT\", DecisionTreeRegressor()))\n",
    "models.append((\"RF\", RandomForestRegressor(random_state=0)))\n",
    "models.append((\"LS\", linear_model.Lasso(alpha=0.1)))"
   ]
  },
  {
   "cell_type": "code",
   "execution_count": 62,
   "id": "460a3006",
   "metadata": {},
   "outputs": [],
   "source": [
    "#function to run the models\n",
    "def run_models(models, X, y):\n",
    "    \n",
    "    #split the dataset\n",
    "    X_train, X_test, y_train, y_test = train_test_split(X, y, test_size = 0.3)\n",
    "    \n",
    "    # evaluate each model in turn\n",
    "    results = []\n",
    "    names = []\n",
    "    scoring = 'r2'\n",
    "    for name, model in models:\n",
    "        #if polynomial regression, fix dataset first\n",
    "        kfold = model_selection.KFold(n_splits=5, random_state=42, shuffle = True)\n",
    "        cv_results = model_selection.cross_val_score(model, X_train, y_train, cv=kfold, scoring=scoring)\n",
    "        results.append(cv_results)\n",
    "        names.append(name)\n",
    "        print(name, \"results\")\n",
    "        fit_model = model.fit(X_train, y_train)\n",
    "        y_preds = fit_model.predict(X_test)\n",
    "        print(tabulate([['R2 mean ', cv_results.mean()],\n",
    "                        ['R2 std ', cv_results.std()],\n",
    "                        ['MSE: ', mean_squared_error(y_test, y_preds)],\n",
    "                        ['RMSE: ', np.sqrt(mean_squared_error(y_test, y_preds))]], \n",
    "                       headers=['Metrics', 'Results'], tablefmt='orgtbl'))\n",
    "        \n",
    "        print()\n",
    "        print(\"=\"*100)\n",
    "        print()\n",
    "        \n",
    "    # boxplot algorithm comparison\n",
    "    fig = plt.figure()\n",
    "    fig.suptitle('Algorithm Comparison')\n",
    "    ax = fig.add_subplot(111)\n",
    "    plt.boxplot(results)\n",
    "    ax.set_xticklabels(names)\n",
    "    plt.show()"
   ]
  },
  {
   "cell_type": "code",
   "execution_count": 24,
   "id": "a3bcecf5",
   "metadata": {},
   "outputs": [],
   "source": [
    "#import the dataset\n",
    "dataset = pd.read_csv(\"../data/dataset_clean.csv\")"
   ]
  },
  {
   "cell_type": "code",
   "execution_count": 25,
   "id": "a2ccd865",
   "metadata": {},
   "outputs": [
    {
     "data": {
      "text/html": [
       "<div>\n",
       "<style scoped>\n",
       "    .dataframe tbody tr th:only-of-type {\n",
       "        vertical-align: middle;\n",
       "    }\n",
       "\n",
       "    .dataframe tbody tr th {\n",
       "        vertical-align: top;\n",
       "    }\n",
       "\n",
       "    .dataframe thead th {\n",
       "        text-align: right;\n",
       "    }\n",
       "</style>\n",
       "<table border=\"1\" class=\"dataframe\">\n",
       "  <thead>\n",
       "    <tr style=\"text-align: right;\">\n",
       "      <th></th>\n",
       "      <th>longitude</th>\n",
       "      <th>latitude</th>\n",
       "      <th>housing_median_age</th>\n",
       "      <th>total_rooms</th>\n",
       "      <th>total_bedrooms</th>\n",
       "      <th>population</th>\n",
       "      <th>households</th>\n",
       "      <th>median_income</th>\n",
       "      <th>median_house_value</th>\n",
       "      <th>rooms_per_household</th>\n",
       "      <th>bedrooms_per_room</th>\n",
       "      <th>population_per_household</th>\n",
       "      <th>Cluster</th>\n",
       "      <th>ocean_proximity_&lt;1H OCEAN</th>\n",
       "      <th>ocean_proximity_INLAND</th>\n",
       "      <th>ocean_proximity_ISLAND</th>\n",
       "      <th>ocean_proximity_NEAR BAY</th>\n",
       "      <th>ocean_proximity_NEAR OCEAN</th>\n",
       "    </tr>\n",
       "  </thead>\n",
       "  <tbody>\n",
       "    <tr>\n",
       "      <th>0</th>\n",
       "      <td>-1.216872</td>\n",
       "      <td>0.762019</td>\n",
       "      <td>-0.047855</td>\n",
       "      <td>0.539395</td>\n",
       "      <td>-0.157840</td>\n",
       "      <td>-0.013103</td>\n",
       "      <td>-0.055251</td>\n",
       "      <td>3.590072</td>\n",
       "      <td>2.551217</td>\n",
       "      <td>0.971195</td>\n",
       "      <td>-1.559601</td>\n",
       "      <td>-0.012339</td>\n",
       "      <td>-1.172573</td>\n",
       "      <td>1.134053</td>\n",
       "      <td>-0.688902</td>\n",
       "      <td>-0.014411</td>\n",
       "      <td>-0.350532</td>\n",
       "      <td>-0.388418</td>\n",
       "    </tr>\n",
       "    <tr>\n",
       "      <th>1</th>\n",
       "      <td>-1.091885</td>\n",
       "      <td>1.295332</td>\n",
       "      <td>-0.759107</td>\n",
       "      <td>-0.892554</td>\n",
       "      <td>-1.024033</td>\n",
       "      <td>-0.936942</td>\n",
       "      <td>-1.018838</td>\n",
       "      <td>0.032075</td>\n",
       "      <td>-0.980863</td>\n",
       "      <td>0.329909</td>\n",
       "      <td>-0.995187</td>\n",
       "      <td>0.008612</td>\n",
       "      <td>-1.172573</td>\n",
       "      <td>-0.881793</td>\n",
       "      <td>1.451584</td>\n",
       "      <td>-0.014411</td>\n",
       "      <td>-0.350532</td>\n",
       "      <td>-0.388418</td>\n",
       "    </tr>\n",
       "    <tr>\n",
       "      <th>2</th>\n",
       "      <td>-1.326861</td>\n",
       "      <td>1.009963</td>\n",
       "      <td>1.690758</td>\n",
       "      <td>-0.409003</td>\n",
       "      <td>-0.141273</td>\n",
       "      <td>-0.243414</td>\n",
       "      <td>-0.224074</td>\n",
       "      <td>-0.854523</td>\n",
       "      <td>-0.722609</td>\n",
       "      <td>-0.468782</td>\n",
       "      <td>1.082074</td>\n",
       "      <td>-0.027683</td>\n",
       "      <td>-1.172573</td>\n",
       "      <td>-0.881793</td>\n",
       "      <td>-0.688902</td>\n",
       "      <td>-0.014411</td>\n",
       "      <td>2.852809</td>\n",
       "      <td>-0.388418</td>\n",
       "    </tr>\n",
       "    <tr>\n",
       "      <th>3</th>\n",
       "      <td>0.817914</td>\n",
       "      <td>-0.730322</td>\n",
       "      <td>0.505340</td>\n",
       "      <td>-0.113854</td>\n",
       "      <td>-0.290372</td>\n",
       "      <td>-0.081504</td>\n",
       "      <td>-0.216282</td>\n",
       "      <td>0.527654</td>\n",
       "      <td>-0.164365</td>\n",
       "      <td>0.112202</td>\n",
       "      <td>-0.675896</td>\n",
       "      <td>0.008913</td>\n",
       "      <td>0.852933</td>\n",
       "      <td>1.134053</td>\n",
       "      <td>-0.688902</td>\n",
       "      <td>-0.014411</td>\n",
       "      <td>-0.350532</td>\n",
       "      <td>-0.388418</td>\n",
       "    </tr>\n",
       "    <tr>\n",
       "      <th>4</th>\n",
       "      <td>1.232870</td>\n",
       "      <td>-1.347842</td>\n",
       "      <td>-0.601051</td>\n",
       "      <td>-0.190036</td>\n",
       "      <td>0.142724</td>\n",
       "      <td>-0.298827</td>\n",
       "      <td>0.082404</td>\n",
       "      <td>-0.849036</td>\n",
       "      <td>-0.698262</td>\n",
       "      <td>-0.480599</td>\n",
       "      <td>0.988246</td>\n",
       "      <td>-0.090435</td>\n",
       "      <td>0.852933</td>\n",
       "      <td>-0.881793</td>\n",
       "      <td>-0.688902</td>\n",
       "      <td>-0.014411</td>\n",
       "      <td>-0.350532</td>\n",
       "      <td>2.574548</td>\n",
       "    </tr>\n",
       "  </tbody>\n",
       "</table>\n",
       "</div>"
      ],
      "text/plain": [
       "   longitude  latitude  housing_median_age  total_rooms  total_bedrooms  \\\n",
       "0  -1.216872  0.762019           -0.047855     0.539395       -0.157840   \n",
       "1  -1.091885  1.295332           -0.759107    -0.892554       -1.024033   \n",
       "2  -1.326861  1.009963            1.690758    -0.409003       -0.141273   \n",
       "3   0.817914 -0.730322            0.505340    -0.113854       -0.290372   \n",
       "4   1.232870 -1.347842           -0.601051    -0.190036        0.142724   \n",
       "\n",
       "   population  households  median_income  median_house_value  \\\n",
       "0   -0.013103   -0.055251       3.590072            2.551217   \n",
       "1   -0.936942   -1.018838       0.032075           -0.980863   \n",
       "2   -0.243414   -0.224074      -0.854523           -0.722609   \n",
       "3   -0.081504   -0.216282       0.527654           -0.164365   \n",
       "4   -0.298827    0.082404      -0.849036           -0.698262   \n",
       "\n",
       "   rooms_per_household  bedrooms_per_room  population_per_household   Cluster  \\\n",
       "0             0.971195          -1.559601                 -0.012339 -1.172573   \n",
       "1             0.329909          -0.995187                  0.008612 -1.172573   \n",
       "2            -0.468782           1.082074                 -0.027683 -1.172573   \n",
       "3             0.112202          -0.675896                  0.008913  0.852933   \n",
       "4            -0.480599           0.988246                 -0.090435  0.852933   \n",
       "\n",
       "   ocean_proximity_<1H OCEAN  ocean_proximity_INLAND  ocean_proximity_ISLAND  \\\n",
       "0                   1.134053               -0.688902               -0.014411   \n",
       "1                  -0.881793                1.451584               -0.014411   \n",
       "2                  -0.881793               -0.688902               -0.014411   \n",
       "3                   1.134053               -0.688902               -0.014411   \n",
       "4                  -0.881793               -0.688902               -0.014411   \n",
       "\n",
       "   ocean_proximity_NEAR BAY  ocean_proximity_NEAR OCEAN  \n",
       "0                 -0.350532                   -0.388418  \n",
       "1                 -0.350532                   -0.388418  \n",
       "2                  2.852809                   -0.388418  \n",
       "3                 -0.350532                   -0.388418  \n",
       "4                 -0.350532                    2.574548  "
      ]
     },
     "execution_count": 25,
     "metadata": {},
     "output_type": "execute_result"
    }
   ],
   "source": [
    "dataset.head()"
   ]
  },
  {
   "cell_type": "code",
   "execution_count": 29,
   "id": "b1c4cc6b",
   "metadata": {},
   "outputs": [
    {
     "data": {
      "text/plain": [
       "longitude                     0\n",
       "latitude                      0\n",
       "housing_median_age            0\n",
       "total_rooms                   0\n",
       "total_bedrooms                0\n",
       "population                    0\n",
       "households                    0\n",
       "median_income                 0\n",
       "median_house_value            0\n",
       "rooms_per_household           0\n",
       "bedrooms_per_room             0\n",
       "population_per_household      0\n",
       "Cluster                       0\n",
       "ocean_proximity_<1H OCEAN     0\n",
       "ocean_proximity_INLAND        0\n",
       "ocean_proximity_ISLAND        0\n",
       "ocean_proximity_NEAR BAY      0\n",
       "ocean_proximity_NEAR OCEAN    0\n",
       "dtype: int64"
      ]
     },
     "execution_count": 29,
     "metadata": {},
     "output_type": "execute_result"
    }
   ],
   "source": [
    "dataset.isnull().sum()"
   ]
  },
  {
   "cell_type": "code",
   "execution_count": 36,
   "id": "3b632980",
   "metadata": {},
   "outputs": [],
   "source": [
    "X, y = dataset.drop('median_house_value', axis = 1), dataset['median_house_value']"
   ]
  },
  {
   "cell_type": "code",
   "execution_count": 63,
   "id": "d0b47015",
   "metadata": {},
   "outputs": [
    {
     "name": "stdout",
     "output_type": "stream",
     "text": [
      "LR results\n",
      "| Metrics   |   Results |\n",
      "|-----------+-----------|\n",
      "| R2 mean   |  0.54682  |\n",
      "| R2 std    |  0.200038 |\n",
      "| MSE:      |  0.347891 |\n",
      "| RMSE:     |  0.589823 |\n",
      "====================================================================================================\n",
      "SVR results\n",
      "| Metrics   |   Results |\n",
      "|-----------+-----------|\n",
      "| R2 mean   | 0.747233  |\n",
      "| R2 std    | 0.0132725 |\n",
      "| MSE:      | 0.243882  |\n",
      "| RMSE:     | 0.493844  |\n",
      "====================================================================================================\n",
      "DT results\n",
      "| Metrics   |   Results |\n",
      "|-----------+-----------|\n",
      "| R2 mean   | 0.606106  |\n",
      "| R2 std    | 0.0258812 |\n",
      "| MSE:      | 0.377761  |\n",
      "| RMSE:     | 0.614622  |\n",
      "====================================================================================================\n",
      "RF results\n",
      "| Metrics   |    Results |\n",
      "|-----------+------------|\n",
      "| R2 mean   | 0.797653   |\n",
      "| R2 std    | 0.00761035 |\n",
      "| MSE:      | 0.200311   |\n",
      "| RMSE:     | 0.447562   |\n",
      "====================================================================================================\n",
      "LS results\n",
      "| Metrics   |   Results |\n",
      "|-----------+-----------|\n",
      "| R2 mean   | 0.564558  |\n",
      "| R2 std    | 0.0113296 |\n",
      "| MSE:      | 0.44193   |\n",
      "| RMSE:     | 0.664778  |\n",
      "====================================================================================================\n"
     ]
    },
    {
     "data": {
      "image/png": "[encoded data removed]",
      "text/plain": [
       "<Figure size 432x288 with 1 Axes>"
      ]
     },
     "metadata": {
      "needs_background": "light"
     },
     "output_type": "display_data"
    }
   ],
   "source": [
    "#run models\n",
    "run_models(models, X, y)"
   ]
  },
  {
   "cell_type": "code",
   "execution_count": null,
   "id": "f26c62fc",
   "metadata": {},
   "outputs": [],
   "source": []
  }
 ],
 "metadata": {
  "kernelspec": {
   "display_name": "Python 3",
   "language": "python",
   "name": "python3"
  },
  "language_info": {
   "codemirror_mode": {
    "name": "ipython",
    "version": 3
   },
   "file_extension": ".py",
   "mimetype": "text/x-python",
   "name": "python",
   "nbconvert_exporter": "python",
   "pygments_lexer": "ipython3",
   "version": "3.8.8"
  }
 },
 "nbformat": 4,
 "nbformat_minor": 5
}
